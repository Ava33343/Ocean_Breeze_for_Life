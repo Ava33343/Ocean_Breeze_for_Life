{
 "cells": [
  {
   "cell_type": "markdown",
   "metadata": {},
   "source": [
    "# San Francisco Rental Prices Dashboard\n",
    "\n",
    "In this notebook, you will compile the visualizations from the previous analysis into functions that can be used for a Panel dashboard."
   ]
  },
  {
   "cell_type": "code",
   "execution_count": 4,
   "metadata": {},
   "outputs": [
    {
     "name": "stdout",
     "output_type": "stream",
     "text": [
      "Collecting panel\n",
      "  Downloading panel-0.8.0-py2.py3-none-any.whl (1.3 MB)\n",
      "\u001b[K     |████████████████████████████████| 1.3 MB 1.9 MB/s eta 0:00:01\n",
      "\u001b[?25hRequirement already satisfied: tqdm in /Applications/anaconda3/lib/python3.7/site-packages (from panel) (4.42.0)\n",
      "Collecting markdown\n",
      "  Downloading Markdown-3.1.1-py2.py3-none-any.whl (87 kB)\n",
      "\u001b[K     |████████████████████████████████| 87 kB 565 kB/s eta 0:00:011\n",
      "\u001b[?25hCollecting pyviz-comms>=0.7.3\n",
      "  Downloading pyviz_comms-0.7.3-py2.py3-none-any.whl (10 kB)\n",
      "Requirement already satisfied: bokeh<2.0,>=1.4.0 in /Applications/anaconda3/lib/python3.7/site-packages (from panel) (1.4.0)\n",
      "Requirement already satisfied: param>=1.9.0 in /Applications/anaconda3/lib/python3.7/site-packages (from panel) (1.9.2)\n",
      "Requirement already satisfied: pyct>=0.4.4 in /Applications/anaconda3/lib/python3.7/site-packages (from panel) (0.4.6)\n",
      "Requirement already satisfied: setuptools>=36 in /Applications/anaconda3/lib/python3.7/site-packages (from markdown->panel) (45.1.0.post20200127)\n",
      "Requirement already satisfied: pillow>=4.0 in /Applications/anaconda3/lib/python3.7/site-packages (from bokeh<2.0,>=1.4.0->panel) (7.0.0)\n",
      "Requirement already satisfied: six>=1.5.2 in /Applications/anaconda3/lib/python3.7/site-packages (from bokeh<2.0,>=1.4.0->panel) (1.14.0)\n",
      "Requirement already satisfied: tornado>=4.3 in /Applications/anaconda3/lib/python3.7/site-packages (from bokeh<2.0,>=1.4.0->panel) (6.0.3)\n",
      "Requirement already satisfied: numpy>=1.7.1 in /Applications/anaconda3/lib/python3.7/site-packages (from bokeh<2.0,>=1.4.0->panel) (1.18.1)\n",
      "Requirement already satisfied: Jinja2>=2.7 in /Applications/anaconda3/lib/python3.7/site-packages (from bokeh<2.0,>=1.4.0->panel) (2.10.3)\n",
      "Requirement already satisfied: python-dateutil>=2.1 in /Applications/anaconda3/lib/python3.7/site-packages (from bokeh<2.0,>=1.4.0->panel) (2.8.1)\n",
      "Requirement already satisfied: packaging>=16.8 in /Applications/anaconda3/lib/python3.7/site-packages (from bokeh<2.0,>=1.4.0->panel) (20.1)\n",
      "Requirement already satisfied: PyYAML>=3.10 in /Applications/anaconda3/lib/python3.7/site-packages (from bokeh<2.0,>=1.4.0->panel) (5.2)\n",
      "Requirement already satisfied: MarkupSafe>=0.23 in /Applications/anaconda3/lib/python3.7/site-packages (from Jinja2>=2.7->bokeh<2.0,>=1.4.0->panel) (1.1.1)\n",
      "Requirement already satisfied: pyparsing>=2.0.2 in /Applications/anaconda3/lib/python3.7/site-packages (from packaging>=16.8->bokeh<2.0,>=1.4.0->panel) (2.4.6)\n",
      "Installing collected packages: markdown, pyviz-comms, panel\n",
      "  Attempting uninstall: pyviz-comms\n",
      "    Found existing installation: pyviz-comms 0.7.2\n",
      "    Uninstalling pyviz-comms-0.7.2:\n",
      "      Successfully uninstalled pyviz-comms-0.7.2\n",
      "Successfully installed markdown-3.1.1 panel-0.8.0 pyviz-comms-0.7.3\n"
     ]
    }
   ],
   "source": [
    "! pip install panel"
   ]
  },
  {
   "cell_type": "code",
   "execution_count": null,
   "metadata": {},
   "outputs": [],
   "source": [
    "# initial imports\n",
    "import os\n",
    "import pandas as pd\n",
    "import matplotlib.pyplot as plt\n",
    "import hvplot.pandas\n",
    "import panel as pn\n",
    "import plotly.express as px\n",
    "from pathlib import Path\n",
    "from panel.interact import interact\n",
    "from panel import widgets\n",
    "import matplotlib.pyplot as plt\n",
    "\n",
    "# Initialize the Panel Extensions (for Plotly)\n",
    "pn.extension('plotly')"
   ]
  },
  {
   "cell_type": "code",
   "execution_count": null,
   "metadata": {},
   "outputs": [],
   "source": [
    "# Read the Mapbox API key\n",
    "# Run . keys.sh file that contains MAPBOX_API_KEY = \"...\"\n",
    "mapbox_token = os.getenv(\"MAPBOX_API_KEY\")"
   ]
  },
  {
   "cell_type": "markdown",
   "metadata": {},
   "source": [
    "# Import Data"
   ]
  },
  {
   "cell_type": "code",
   "execution_count": null,
   "metadata": {},
   "outputs": [],
   "source": [
    "# Import the CSVs to Pandas DataFrames\n",
    "file_path = Path(\"Data/sfo_neighborhoods_census_data.csv\")\n",
    "sfo_data = pd.read_csv(\n",
    "    file_path, \n",
    "    infer_datetime_format=True,\n",
    "    parse_dates=True,\n",
    "    index_col=\"year\")\n",
    "\n",
    "file_path = Path(\"Data/neighborhoods_coordinates.csv\")\n",
    "df_neighborhood_locations = pd.read_csv(file_path)"
   ]
  },
  {
   "cell_type": "code",
   "execution_count": null,
   "metadata": {},
   "outputs": [],
   "source": [
    "# See structures and types of the data sets\n",
    "sfo_data.head()"
   ]
  },
  {
   "cell_type": "code",
   "execution_count": null,
   "metadata": {},
   "outputs": [],
   "source": [
    "sfo_data.dtypes"
   ]
  },
  {
   "cell_type": "code",
   "execution_count": null,
   "metadata": {},
   "outputs": [],
   "source": [
    "df_neighborhood_locations.head()"
   ]
  },
  {
   "cell_type": "code",
   "execution_count": null,
   "metadata": {},
   "outputs": [],
   "source": [
    "df_neighborhood_locations.dtypes"
   ]
  },
  {
   "cell_type": "markdown",
   "metadata": {},
   "source": [
    "- - -"
   ]
  },
  {
   "cell_type": "markdown",
   "metadata": {},
   "source": [
    "## Panel Visualizations\n",
    "\n",
    "In this section, you will copy the code for each plot type from your analysis notebook and place it into separate functions that Panel can use to create panes for the dashboard. \n",
    "\n",
    "These functions will convert the plot object to a Panel pane.\n",
    "\n",
    "Be sure to include any DataFrame transformation/manipulation code required along with the plotting code.\n",
    "\n",
    "Return a Panel pane object from each function that can be used to build the dashboard.\n",
    "\n",
    "Note: Remove any `.show()` lines from the code. We want to return the plots instead of showing them. The Panel dashboard will then display the plots."
   ]
  },
  {
   "cell_type": "code",
   "execution_count": null,
   "metadata": {},
   "outputs": [],
   "source": [
    "# Define Panel Visualization Functions\n",
    "def housing_units_per_year():\n",
    "    \"\"\"Housing Units Per Year.\"\"\"\n",
    "    \n",
    "    # Slice for housing units per year    \n",
    "    housing_units_grp = (\n",
    "        sfo_data[[\"housing_units\"]] \n",
    "        .groupby([sfo_data.index])\n",
    "        ).mean()\n",
    "    housing_units_grp.reset_index(inplace=True)          \n",
    "    \n",
    "    # Use rot and yformatter attributes/options\n",
    "    plot_housing_units_grp = housing_units_grp.hvplot.bar(\n",
    "        label=\"Figure 1. Housing Units Per Year\",\n",
    "        x=\"year\", y=\"housing_units\", rot=45\n",
    "        ).opts(yformatter=\"%,.0f\",\n",
    "        line_color=\"red\",\n",
    "        hover_line_color=\"green\",\n",
    "        bgcolor=\"lightgrey\"\n",
    "        )\n",
    "    \n",
    "    return plot_housing_units_grp"
   ]
  },
  {
   "cell_type": "code",
   "execution_count": null,
   "metadata": {},
   "outputs": [],
   "source": [
    "# Optional Challenge: Use the min, max, and std to scale the y limits of the chart\n",
    "def housing_units_scaled_per_year():\n",
    "\n",
    "    housing_units_filtered = sfo_data.filter(['year','housing_units']).groupby([sfo_data.index]).mean()\n",
    "\n",
    "    padding = housing_units_filtered['housing_units'].std()\n",
    "    mean = housing_units_filtered.mean()['housing_units']\n",
    "\n",
    "    # plot bar chart based on 95.45% of the population being covered within +/- two standard deviations from the mean\n",
    "    plot_housing_units_grp_scaled = housing_units_filtered.plot.bar(\n",
    "        ylim=(mean-2*padding, mean+2*padding), \n",
    "        title=\"Figure 1b. Housing Units Per Year in San Francisco\",\n",
    "        figsize=(12,7))\n",
    "    \n",
    "    return plot_housing_units_grp_scaled"
   ]
  },
  {
   "cell_type": "code",
   "execution_count": null,
   "metadata": {},
   "outputs": [],
   "source": [
    "def average_gross_rent_bar():\n",
    "    \"\"\"Average Gross Rent in San Francisco Per Year.\"\"\"\n",
    "     \n",
    "    # Slice for gross rent per year    \n",
    "    gross_rent_grp = (\n",
    "        sfo_data[[\"gross_rent\"]] \n",
    "        .groupby([sfo_data.index.year])\n",
    "        ).mean()\n",
    "    gross_rent_grp.reset_index(inplace=True)          \n",
    "    \n",
    "    # Use plotly express for a bar chart\n",
    "    padding_rent = 200\n",
    "    min = gross_rent_grp.min()[\"gross_rent\"] - padding_rent\n",
    "    max = gross_rent_grp.max()[\"gross_rent\"] + padding_rent\n",
    "    \n",
    "    plot_gross_rent_bar = px.bar(\n",
    "        gross_rent_grp, x=\"year\", y=\"gross_rent\", title=\"Figure 2a. Average Gross Rent in San Francisco Per Year - A Bar Chart\",\n",
    "        range_y = [min, max],\n",
    "        labels={\"year\": \"Year\", \"gross_rent\": \"Gross Rent ($)\"}\n",
    "    )\n",
    "    \n",
    "    return plot_gross_rent_bar"
   ]
  },
  {
   "cell_type": "code",
   "execution_count": null,
   "metadata": {},
   "outputs": [],
   "source": [
    "def average_gross_rent_line():\n",
    "    # Slice for gross rent per year    \n",
    "    gross_rent_grp = (\n",
    "        sfo_data[[\"gross_rent\"]] \n",
    "        .groupby([sfo_data.index.year])\n",
    "        ).mean()\n",
    "    gross_rent_grp.reset_index(inplace=True)   \n",
    "\n",
    "    # Use plotly express for a line chart\n",
    "    plot_gross_rent_line = px.line(gross_rent_grp, x=\"year\", y=\"gross_rent\", \n",
    "                                   title='Figure 2b. Average Gross Rent in San Francisco Per Year - A Line Plot',\n",
    "                                    range_y = [min, max],\n",
    "                                    labels={\"year\": \"Year\", \"gross_rent\": \"Gross Rent ($)\"},\n",
    "    )\n",
    "    \n",
    "    return plot_gross_rent_line"
   ]
  },
  {
   "cell_type": "code",
   "execution_count": null,
   "metadata": {},
   "outputs": [],
   "source": [
    "def average_sales_price_bar():\n",
    "    \"\"\"Average Sales Price Per Year.\"\"\"\n",
    "    \n",
    "    # Slice for gross rent per year    \n",
    "    sales_price_grp = (\n",
    "        sfo_data[[\"sale_price_sqr_foot\"]] \n",
    "        .groupby([sfo_data.index.year])\n",
    "        ).mean()\n",
    "    sales_price_grp.reset_index(inplace=True)          \n",
    "    \n",
    "    # Use plotly express for a bar chart\n",
    "    padding_sales = 50\n",
    "    min = sales_price_grp.min()[\"sale_price_sqr_foot\"] - padding_sales\n",
    "    max = sales_price_grp.max()[\"sale_price_sqr_foot\"] + padding_sales\n",
    "    \n",
    "    plot_sales_price_bar = px.bar(\n",
    "        sales_price_grp, x=\"year\", y=\"sale_price_sqr_foot\", title=\"Figure 3a. Average Sales Price in San Francisco Per Year - A Bar Graph\",\n",
    "        range_y = [min, max],\n",
    "        labels={\"year\": \"Year\", \"sale_price_sqr_foot\": \"Sales Price per Square Foot ($)\"}\n",
    "    )\n",
    "    \n",
    "    return plot_sales_price_bar"
   ]
  },
  {
   "cell_type": "code",
   "execution_count": null,
   "metadata": {},
   "outputs": [],
   "source": [
    "def average_sales_price_line():\n",
    "    \"\"\"Average Sales Price Per Year.\"\"\"\n",
    "    \n",
    "    # Slice for gross rent per year    \n",
    "    sales_price_grp = (\n",
    "        sfo_data[[\"sale_price_sqr_foot\"]] \n",
    "        .groupby([sfo_data.index.year])\n",
    "        ).mean()\n",
    "    sales_price_grp.reset_index(inplace=True)          \n",
    "    \n",
    "    # Use plotly express for a line chart\n",
    "    plot_sales_price_line = px.line(sales_price_grp, x=\"year\", y=\"sale_price_sqr_foot\", \n",
    "                                   title='Figure 3b. Average Sales Price in San Francisco Per Year - A Line Plot',\n",
    "                                    range_y = [min, max],\n",
    "                                    labels={\"year\": \"Year\", \"sale_price_sqr_foot\": \"Sales Price per Square Foot ($)\"}\n",
    "    )\n",
    "\n",
    "    return plot_sales_price_line"
   ]
  },
  {
   "cell_type": "code",
   "execution_count": null,
   "metadata": {},
   "outputs": [],
   "source": [
    "def average_price_by_neighborhood():\n",
    "    \"\"\"Average Prices by Neighborhood.\"\"\"\n",
    "    # Slice for sale price per squre foot by year and neighborhood \n",
    "    sales_price_neighborhood_grp = (\n",
    "        sfo_data[[\"sale_price_sqr_foot\",\"neighborhood\"]] \n",
    "        .groupby([sfo_data.index,sfo_data[\"neighborhood\"]])\n",
    "        ).mean()\n",
    "    sales_price_neighborhood_grp.reset_index(inplace=True)   \n",
    "   \n",
    "    # Use hvplot to create an interactive line chart of the average price per sq ft.\n",
    "    # The plot should have a dropdown selector for the neighborhood\n",
    "    plot_sales_neighborhood_grp = sales_price_neighborhood_grp.hvplot.line(\n",
    "        label=\"Figure 4. Annual Housing Sales Price Per Squre Foot in San Francisco Neighborhoods\",\n",
    "        x=\"year\", y=\"sale_price_sqr_foot\", rot=45,\n",
    "        groupby='neighborhood',\n",
    "        ).opts(yformatter=\"%.0f\",\n",
    "        line_color=\"black\",\n",
    "        hover_line_color=\"green\",\n",
    "        bgcolor=\"lightyellow\")\n",
    "    return plot_sales_neighborhood_grp"
   ]
  },
  {
   "cell_type": "code",
   "execution_count": null,
   "metadata": {},
   "outputs": [],
   "source": [
    "# Visualize the mean `sales_price_sqr_foot` per year with the neighborhood as a dropdown selector.\n",
    "# built in by \"groupby=\"neighborhood\" in the plot, plot_sales_neighborhood_grp above.\n",
    "# interact(average_price_by_neighborhood, sfo_data['neighborhood'])"
   ]
  },
  {
   "cell_type": "code",
   "execution_count": null,
   "metadata": {},
   "outputs": [],
   "source": [
    "def top_most_expensive_neighborhoods():\n",
    "    \"\"\"Top 10 Most Expensive Neighborhoods.\"\"\"\n",
    "    \n",
    "    # Slice for housing units per year    \n",
    "    top_10_expensive = (\n",
    "        sfo_data[[\"neighborhood\",\"sale_price_sqr_foot\"]] \n",
    "        .groupby(sfo_data[\"neighborhood\"])\n",
    "        ).mean()\n",
    "\n",
    "    top_10_expensive.reset_index(inplace=True)\n",
    "    top_10_expensive.sort_values(by=\"sale_price_sqr_foot\", ascending=False, inplace=True)\n",
    "\n",
    "    top_10 = top_10_expensive.head(10)\n",
    "    \n",
    "    # Plotting the data from the top 10 expensive neighborhoods\n",
    "    # Use rot and yformatter attributes/options\n",
    "    plot_top_10_bar = top_10.hvplot.bar(\n",
    "        label=\"Figure 5. Top 10 Most Expensive Neighborhood in San Francisco - A Bar Chart\",\n",
    "        x=\"neighborhood\", y=\"sale_price_sqr_foot\", rot=45\n",
    "        ).opts(yformatter=\"%.0f\",\n",
    "        line_color=\"black\",\n",
    "        hover_line_color=\"red\",\n",
    "        bgcolor=\"lightblue\"\n",
    "        )\n",
    "    return plot_top_10_bar"
   ]
  },
  {
   "cell_type": "code",
   "execution_count": null,
   "metadata": {},
   "outputs": [],
   "source": [
    "def parallel_coordinates():\n",
    "    \"\"\"Parallel Coordinates Plot.\"\"\"\n",
    "    # Parallel Coordinates Plot on the top 10 most profitable neighborhood to invest\n",
    "    # Data preparation\n",
    "    average = (sfo_data).groupby([sfo_data[\"neighborhood\"]]).mean()\n",
    "    average.reset_index(inplace=True)\n",
    "    average.sort_values(by=\"sale_price_sqr_foot\", ascending=False, inplace=True)\n",
    "    mean = average.head(10)\n",
    "    \n",
    "    # Parallel Coordinates Plot\n",
    "    plot_parallel_coordinates = px.parallel_coordinates(\n",
    "        mean,\n",
    "        dimensions=['sale_price_sqr_foot','housing_units', 'gross_rent'],\n",
    "        color='sale_price_sqr_foot',\n",
    "        color_continuous_scale=px.colors.sequential.Inferno,\n",
    "        title='Figure 6a. Parallel Coordinates on Top 10 Most Profitable Neighborhoods for Housing Investment',\n",
    "        labels={\n",
    "            #\"neighborhood\": \"Neighborhood\", not showing up because it is not a numerical coordinate\n",
    "            \"sale_price_sqr_foot\": \"Sales Price Per Square Foot ($)\",\n",
    "            \"housing_units\": \"Housing Units\",\n",
    "            \"gross_rent\": \"Gross Rent ($)\"\n",
    "            }\n",
    "        )\n",
    "    \n",
    "    return plot_parallel_coordinates"
   ]
  },
  {
   "cell_type": "code",
   "execution_count": null,
   "metadata": {},
   "outputs": [],
   "source": [
    "def parallel_categories():\n",
    "    \"\"\"Parallel Categories Plot.\"\"\"\n",
    "    # Parallel Coordinates Plot on the top 10 most profitable neighborhood to invest\n",
    "    # Data preparation\n",
    "    average = (sfo_data).groupby([sfo_data[\"neighborhood\"]]).mean()\n",
    "    average.reset_index(inplace=True)\n",
    "    average.sort_values(by=\"sale_price_sqr_foot\", ascending=False, inplace=True)\n",
    "    mean = average.head(10)\n",
    "    \n",
    "    # Parallel Categories Plot\n",
    "    plot_parallel_categories = px.parallel_categories(\n",
    "        mean.round(3),\n",
    "        dimensions=[\"neighborhood\",\"sale_price_sqr_foot\", \"housing_units\", \"gross_rent\"],\n",
    "        color=\"sale_price_sqr_foot\",\n",
    "        color_continuous_scale=px.colors.sequential.Inferno, \n",
    "        title='Figure 6b. Parallel Categories on Top 10 Most Profitable Neighborhoods for Housing Investment',\n",
    "        labels={\n",
    "            \"neighborhood\": \"Neighborhood\",\n",
    "            \"sale_price_sqr_foot\": \"Sales Price Per Square Foot ($)\",\n",
    "            \"housing_units\": \"Housing Units\",\n",
    "            \"gross_rent\": \"Gross Rent ($)\"\n",
    "            }\n",
    "        )\n",
    "    \n",
    "    return plot_parallel_categories"
   ]
  },
  {
   "cell_type": "code",
   "execution_count": null,
   "metadata": {},
   "outputs": [],
   "source": [
    "def neighborhood_map():\n",
    "    \"\"\"Neighborhood Map\"\"\"\n",
    "    \n",
    "    # Load neighborhoods coordinates data\n",
    "    file_path = Path(\"Data/neighborhoods_coordinates.csv\")\n",
    "    df_neighborhood_locations = pd.read_csv(file_path)\n",
    "    \n",
    "    # Calculate the mean values for each neighborhood\n",
    "    avg = (sfo_data).groupby([sfo_data[\"neighborhood\"]]).mean()\n",
    "    avg.reset_index(inplace=True)\n",
    "    \n",
    "    # Join the average values with the neighborhood locations\n",
    "    avg_neighborhood = pd.concat([df_neighborhood_locations,avg], axis=1, join=\"inner\")\n",
    "\n",
    "    # Mapbox visulization\n",
    "    px.set_mapbox_access_token(mapbox_token)\n",
    "\n",
    "    geo_map = px.scatter_mapbox(\n",
    "        avg_neighborhood,\n",
    "        text=\"neighborhood\",\n",
    "        lat=\"Lat\",\n",
    "        lon=\"Lon\",\n",
    "        size=\"sale_price_sqr_foot\",\n",
    "        color=\"gross_rent\",\n",
    "        color_continuous_scale=px.colors.cyclical.IceFire, \n",
    "        zoom=10,\n",
    "        title='Figure 7. Map Box Geographical Scattered Plot on San Francisco Neighborhoods'\n",
    "    )\n",
    "    return geo_map"
   ]
  },
  {
   "cell_type": "markdown",
   "metadata": {},
   "source": [
    "## Panel Dashboard\n",
    "\n",
    "In this section, you will combine all of the plots into a single dashboard view using Panel. Be creative with your dashboard design!"
   ]
  },
  {
   "cell_type": "code",
   "execution_count": null,
   "metadata": {},
   "outputs": [],
   "source": [
    "# Create panels to structure the dashboard layout\n",
    "units_col = pn.Column(\n",
    "    \"## How Many Housing Units Are There?\",\n",
    "    \"_*Fluctuations Over Year in San Francisco*_\",\n",
    "    housing_units_per_year(),\n",
    "    housing_units_scaled_per_year()\n",
    ")\n",
    "\n",
    "yearly_col = pn.Column(\n",
    "    \"## Think Or Swim in San Francisco\",\n",
    "    \"_*Is It A Good Deal?*_\",\n",
    "    average_gross_rent_bar(),\n",
    "    average_sales_price_bar()\n",
    "\n",
    ")\n",
    "\n",
    "flow_col = pn.Column(\n",
    "    \"## See Trends in San Francisco Housing\",\n",
    "    \"_*Enjoy or Lease?*_\",\n",
    "    average_gross_rent_line(),\n",
    "    average_sales_price_line()\n",
    ")\n",
    "\n",
    "neighborhood_col = pn.Column(\n",
    "    \"## Nailed It! Zooming in San Francisco Neighborhoods\",\n",
    "    \"_*Most Luxurious Neighborhoods by Average Sales Price per Square Foot*_\",\n",
    "    average_price_by_neighborhood(),\n",
    "    top_most_expensive_neighborhoods()\n",
    ")\n",
    "\n",
    "analysis_col = pn.Column(\n",
    "    \"## Home. Sweet home!\",\n",
    "    \"_*Where are we heading?*_\",\n",
    "    parallel_coordinates(),\n",
    "    parallel_categories(),\n",
    "    neighborhood_map()\n",
    ")\n",
    "\n",
    "# Create tabs\n",
    "panel = pn.Tabs(\n",
    "    (\"Supply\", units_col),\n",
    "    (\"Yearly\", yearly_col),\n",
    "    (\"Flow\", flow_col),\n",
    "    (\"Neighborhood\", neighborhood_col),\n",
    "    (\"Analysis\", analysis_col)\n",
    ")"
   ]
  },
  {
   "cell_type": "markdown",
   "metadata": {},
   "source": [
    "## Serve the Panel Dashboard"
   ]
  },
  {
   "cell_type": "code",
   "execution_count": null,
   "metadata": {},
   "outputs": [],
   "source": [
    "! pip install bokeh"
   ]
  },
  {
   "cell_type": "code",
   "execution_count": null,
   "metadata": {},
   "outputs": [],
   "source": [
    "!. run.sh"
   ]
  },
  {
   "cell_type": "code",
   "execution_count": null,
   "metadata": {},
   "outputs": [],
   "source": [
    "panel.servable()"
   ]
  },
  {
   "cell_type": "markdown",
   "metadata": {},
   "source": [
    "# References:\n",
    "* CU GitLab Repository\n",
    "* https://github.com/willwillis/python-pyviz-homework/blob/master/dashboard.ipynb\n",
    "* https://github.com/willwillis/python-pyviz-homework/blob/master/rental_analysis.ipynb\n",
    "* https://plot.ly/python/line-charts/\n",
    "* https://panel.holoviz.org/gallery/index.html\n",
    "* https://plot.ly/python/plotly-express/\n",
    "* https://www.youtube.com/watch?v=DAQNHzOcO5A\n",
    "* https://stackoverflow.com/questions/59118664/lineplot-with-markers-in-holoviews-or-hvplot\n",
    "* http://holoviews.org/user_guide/Plotting_with_Bokeh.html\n",
    "* http://holoviews.org/user_guide/Customizing_Plots.html\n",
    "* http://holoviews.org/user_guide/Styling_Plots.html\n",
    "* http://holoviews.org/user_guide/Plotting_with_Bokeh.html"
   ]
  },
  {
   "cell_type": "code",
   "execution_count": null,
   "metadata": {},
   "outputs": [],
   "source": []
  }
 ],
 "metadata": {
  "file_extension": ".py",
  "kernelspec": {
   "display_name": "Python 3",
   "language": "python",
   "name": "python3"
  },
  "language_info": {
   "codemirror_mode": {
    "name": "ipython",
    "version": 3
   },
   "file_extension": ".py",
   "mimetype": "text/x-python",
   "name": "python",
   "nbconvert_exporter": "python",
   "pygments_lexer": "ipython3",
   "version": "3.7.4"
  },
  "mimetype": "text/x-python",
  "name": "python",
  "npconvert_exporter": "python",
  "pygments_lexer": "ipython3",
  "version": 3
 },
 "nbformat": 4,
 "nbformat_minor": 4
}
